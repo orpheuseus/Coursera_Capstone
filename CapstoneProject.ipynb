{
 "cells": [
  {
   "cell_type": "markdown",
   "metadata": {},
   "source": [
    "<h1>Capstone project</h1>"
   ]
  },
  {
   "cell_type": "markdown",
   "metadata": {},
   "source": [
    "Ok, the idea of the project is the following:\n",
    "\n",
    "1. We take a list of all cities in north america (maybe include those in Europe and/or Australia) from Wikipedia https://en.wikipedia.org/wiki/List_of_North_American_cities_by_population\n",
    "\n",
    "2. Things become a bit tricky, we can in principle use the database of geonames at https://download.geonames.org/export/dump/ in order to get all the postal code areas of these places together with coordinates, but the names in wikipedia have to be translated into native languages (and \"New York City\" in Geonames is \"New York\".\n",
    "\n",
    "3. We explore all these areas in Foursquare - the name conversion problem will appear again and I'm not sure yet how it can be fixed easily that the resulting areas do neither overlap - not miss too much of the cities\n",
    "\n",
    "4. The idea then is to generate a kind of fingerprint of each city by histograms and other graphs\n",
    "\n",
    "5. Maybe a higher-dimensional version of k-means can be helpful to compare and cluster all the cities\n",
    "\n",
    "6. What are the differences between the cities? Is there a way to order them according to some dynamics (which shows their future classes with certain probabilities?)\n",
    "\n",
    "7. Can we learn from those for their future evolution? (Of course, additional information on all levels would be quite helpful to get a better ordering, but this is only a small project ;-) i.e. fingerprints of areas could be correlated to crime rates and types)\n",
    "\n",
    "8. Which areas need more restaurants, hotels, cafes, what so ever? This information is important for companies to know where to invest or for politicians to get an idea how the cities may develop due to certain decisions,..."
   ]
  }
 ],
 "metadata": {
  "kernelspec": {
   "display_name": "Python 3",
   "language": "python",
   "name": "python3"
  }
 },
 "nbformat": 4,
 "nbformat_minor": 2
}
