{
 "cells": [
  {
   "cell_type": "markdown",
   "metadata": {},
   "source": [
    "# Future city"
   ]
  },
  {
   "cell_type": "markdown",
   "metadata": {},
   "source": [
    "<font color=\"blue\"><b>Do you want to grasp the possible future development of your city? Do you need scientific background for your decisions and arguments? A unique opportunity is given by the following project! If you're interested, keep on reading.</b></font>"
   ]
  },
  {
   "cell_type": "markdown",
   "metadata": {},
   "source": [
    "Modern cities change every day. Many of the changes can be influenced by the right decision. Our modern data science framework is capable to classify world-leading cities and predict the future of yours. Take over steering control instead of moving in the mist."
   ]
  },
  {
   "cell_type": "markdown",
   "metadata": {},
   "source": [
    "As soon as you decide towards which direction you want to move, we will give you and the investors in your city the power to <b>know</b> where new <i>restaurants</i>, <i>hotels</i> and other types of <i>venues</i> are over- or underrepresented. Our predictions are not limited by historical borders."
   ]
  },
  {
   "cell_type": "markdown",
   "metadata": {},
   "source": [
    "### How is this possible"
   ]
  },
  {
   "cell_type": "markdown",
   "metadata": {},
   "source": [
    "Every city has its own fingerprint. It can have a unique center or several centers. We will count the number of different types of venues depending on the distance towards them. This gives rise to density functions. We will unveil centers and density functions and use other types of correlations in order to calculate a unique fingerprint for each city. In a next step, this information will be shrinked down to relevant information such that cities can be related to certain types of classes. Some will be good representatives of these classes, some will be in between. The differences between the cities will finally tell you, how your city should be transformed to move towards a certain class."
   ]
  },
  {
   "cell_type": "code",
   "execution_count": null,
   "metadata": {},
   "outputs": [],
   "source": []
  }
 ],
 "metadata": {
  "kernelspec": {
   "display_name": "Python 3",
   "language": "python",
   "name": "python3"
  },
  "language_info": {
   "codemirror_mode": {
    "name": "ipython",
    "version": 3
   },
   "file_extension": ".py",
   "mimetype": "text/x-python",
   "name": "python",
   "nbconvert_exporter": "python",
   "pygments_lexer": "ipython3",
   "version": "3.5.3"
  }
 },
 "nbformat": 4,
 "nbformat_minor": 4
}
