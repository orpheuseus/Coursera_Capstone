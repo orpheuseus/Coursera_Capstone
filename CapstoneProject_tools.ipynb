{
 "cells": [
  {
   "cell_type": "markdown",
   "metadata": {},
   "source": [
    "<h1>Capstone project worksheet</h1>"
   ]
  },
  {
   "cell_type": "markdown",
   "metadata": {},
   "source": [
    "This notebook is mainly used for the capstone project of the \"Applied Data Science\" course in Coursera"
   ]
  },
  {
   "cell_type": "markdown",
   "metadata": {},
   "source": [
    "<h2>Week 1</h2>"
   ]
  },
  {
   "cell_type": "code",
   "execution_count": 6,
   "metadata": {
    "collapsed": true
   },
   "outputs": [],
   "source": [
    "import pandas as pd\n",
    "import numpy as np"
   ]
  },
  {
   "cell_type": "code",
   "execution_count": 3,
   "metadata": {},
   "outputs": [
    {
     "name": "stdout",
     "output_type": "stream",
     "text": [
      "Hello Capstone Project Course!\n"
     ]
    }
   ],
   "source": [
    "print (\"Hello Capstone Project Course!\")"
   ]
  },
  {
   "cell_type": "markdown",
   "metadata": {
    "collapsed": true
   },
   "source": [
    "## Week 3"
   ]
  },
  {
   "cell_type": "markdown",
   "metadata": {},
   "source": [
    "### Part 1"
   ]
  },
  {
   "cell_type": "code",
   "execution_count": 1,
   "metadata": {
    "collapsed": true
   },
   "outputs": [],
   "source": [
    "import requests\n",
    "from bs4 import BeautifulSoup"
   ]
  },
  {
   "cell_type": "code",
   "execution_count": 2,
   "metadata": {
    "collapsed": true
   },
   "outputs": [],
   "source": [
    "# read from wikipedia\n",
    "URL = \"https://en.wikipedia.org/wiki/List_of_postal_codes_of_Canada:_M\"\n",
    "res = requests.get(URL).text\n",
    "soup = BeautifulSoup(res,'lxml')"
   ]
  },
  {
   "cell_type": "code",
   "execution_count": 3,
   "metadata": {
    "collapsed": true
   },
   "outputs": [],
   "source": [
    "# find the table\n",
    "wikitable = soup.find(\"table\",class_=\"wikitable\")"
   ]
  },
  {
   "cell_type": "code",
   "execution_count": 4,
   "metadata": {
    "collapsed": true
   },
   "outputs": [],
   "source": [
    "# read header and data from bs into df toronto\n",
    "header=[]\n",
    "data=[]\n",
    "for item in wikitable.find_all('tr'):\n",
    "    new_data=[]\n",
    "    for entry in item.find_all(\"th\"):\n",
    "        header.append(entry.text.rstrip())\n",
    "    for entry in item.find_all(\"td\"):\n",
    "        new_data.append(entry.text.rstrip())\n",
    "    if (len(new_data)>0): data.append(new_data)\n"
   ]
  },
  {
   "cell_type": "code",
   "execution_count": 7,
   "metadata": {
    "collapsed": true
   },
   "outputs": [],
   "source": [
    "# generate DataFrame\n",
    "toronto=pd.DataFrame(data,columns=header)"
   ]
  },
  {
   "cell_type": "code",
   "execution_count": 8,
   "metadata": {},
   "outputs": [
    {
     "data": {
      "text/html": [
       "<div>\n",
       "<style>\n",
       "    .dataframe thead tr:only-child th {\n",
       "        text-align: right;\n",
       "    }\n",
       "\n",
       "    .dataframe thead th {\n",
       "        text-align: left;\n",
       "    }\n",
       "\n",
       "    .dataframe tbody tr th {\n",
       "        vertical-align: top;\n",
       "    }\n",
       "</style>\n",
       "<table border=\"1\" class=\"dataframe\">\n",
       "  <thead>\n",
       "    <tr style=\"text-align: right;\">\n",
       "      <th></th>\n",
       "      <th>Postcode</th>\n",
       "      <th>Borough</th>\n",
       "      <th>Neighbourhood</th>\n",
       "    </tr>\n",
       "  </thead>\n",
       "  <tbody>\n",
       "    <tr>\n",
       "      <th>0</th>\n",
       "      <td>M1A</td>\n",
       "      <td>Not assigned</td>\n",
       "      <td>Not assigned</td>\n",
       "    </tr>\n",
       "    <tr>\n",
       "      <th>1</th>\n",
       "      <td>M2A</td>\n",
       "      <td>Not assigned</td>\n",
       "      <td>Not assigned</td>\n",
       "    </tr>\n",
       "    <tr>\n",
       "      <th>2</th>\n",
       "      <td>M3A</td>\n",
       "      <td>North York</td>\n",
       "      <td>Parkwoods</td>\n",
       "    </tr>\n",
       "    <tr>\n",
       "      <th>3</th>\n",
       "      <td>M4A</td>\n",
       "      <td>North York</td>\n",
       "      <td>Victoria Village</td>\n",
       "    </tr>\n",
       "    <tr>\n",
       "      <th>4</th>\n",
       "      <td>M5A</td>\n",
       "      <td>Downtown Toronto</td>\n",
       "      <td>Harbourfront</td>\n",
       "    </tr>\n",
       "  </tbody>\n",
       "</table>\n",
       "</div>"
      ],
      "text/plain": [
       "  Postcode           Borough     Neighbourhood\n",
       "0      M1A      Not assigned      Not assigned\n",
       "1      M2A      Not assigned      Not assigned\n",
       "2      M3A        North York         Parkwoods\n",
       "3      M4A        North York  Victoria Village\n",
       "4      M5A  Downtown Toronto      Harbourfront"
      ]
     },
     "execution_count": 8,
     "metadata": {},
     "output_type": "execute_result"
    }
   ],
   "source": [
    "toronto.head()"
   ]
  },
  {
   "cell_type": "code",
   "execution_count": 9,
   "metadata": {
    "collapsed": true
   },
   "outputs": [],
   "source": [
    "# copy df and remove rows where Borough is Not assigned\n",
    "tr_df=toronto[toronto.Borough!=\"Not assigned\"].copy()"
   ]
  },
  {
   "cell_type": "code",
   "execution_count": 10,
   "metadata": {
    "collapsed": true
   },
   "outputs": [],
   "source": [
    "# If a cell has a borough but a Not assigned neighborhood, then the neighborhood will be the same as the borough.\n",
    "tr_df.Neighbourhood=tr_df.Borough.where(tr_df.Neighbourhood == 'Not assigned', tr_df.Neighbourhood)"
   ]
  },
  {
   "cell_type": "code",
   "execution_count": 11,
   "metadata": {
    "collapsed": true
   },
   "outputs": [],
   "source": [
    "# join the Neighbourhoods accordingly\n",
    "tr_df.Neighbourhood=tr_df.groupby([\"Postcode\"])[\"Neighbourhood\"].transform(lambda x: ','.join(x))"
   ]
  },
  {
   "cell_type": "code",
   "execution_count": 12,
   "metadata": {
    "collapsed": true
   },
   "outputs": [],
   "source": [
    "# reset index without adding a new index column\n",
    "tr_df=tr_df.drop_duplicates().set_index(\"Postcode\").reset_index()"
   ]
  },
  {
   "cell_type": "code",
   "execution_count": 13,
   "metadata": {},
   "outputs": [
    {
     "data": {
      "text/html": [
       "<div>\n",
       "<style>\n",
       "    .dataframe thead tr:only-child th {\n",
       "        text-align: right;\n",
       "    }\n",
       "\n",
       "    .dataframe thead th {\n",
       "        text-align: left;\n",
       "    }\n",
       "\n",
       "    .dataframe tbody tr th {\n",
       "        vertical-align: top;\n",
       "    }\n",
       "</style>\n",
       "<table border=\"1\" class=\"dataframe\">\n",
       "  <thead>\n",
       "    <tr style=\"text-align: right;\">\n",
       "      <th></th>\n",
       "      <th>Postcode</th>\n",
       "      <th>Borough</th>\n",
       "      <th>Neighbourhood</th>\n",
       "    </tr>\n",
       "  </thead>\n",
       "  <tbody>\n",
       "    <tr>\n",
       "      <th>0</th>\n",
       "      <td>M3A</td>\n",
       "      <td>North York</td>\n",
       "      <td>Parkwoods</td>\n",
       "    </tr>\n",
       "    <tr>\n",
       "      <th>1</th>\n",
       "      <td>M4A</td>\n",
       "      <td>North York</td>\n",
       "      <td>Victoria Village</td>\n",
       "    </tr>\n",
       "    <tr>\n",
       "      <th>2</th>\n",
       "      <td>M5A</td>\n",
       "      <td>Downtown Toronto</td>\n",
       "      <td>Harbourfront</td>\n",
       "    </tr>\n",
       "    <tr>\n",
       "      <th>3</th>\n",
       "      <td>M6A</td>\n",
       "      <td>North York</td>\n",
       "      <td>Lawrence Heights,Lawrence Manor</td>\n",
       "    </tr>\n",
       "    <tr>\n",
       "      <th>4</th>\n",
       "      <td>M7A</td>\n",
       "      <td>Downtown Toronto</td>\n",
       "      <td>Queen's Park</td>\n",
       "    </tr>\n",
       "  </tbody>\n",
       "</table>\n",
       "</div>"
      ],
      "text/plain": [
       "  Postcode           Borough                    Neighbourhood\n",
       "0      M3A        North York                        Parkwoods\n",
       "1      M4A        North York                 Victoria Village\n",
       "2      M5A  Downtown Toronto                     Harbourfront\n",
       "3      M6A        North York  Lawrence Heights,Lawrence Manor\n",
       "4      M7A  Downtown Toronto                     Queen's Park"
      ]
     },
     "execution_count": 13,
     "metadata": {},
     "output_type": "execute_result"
    }
   ],
   "source": [
    "# show part of the cleaned DataFrame\n",
    "tr_df.head()"
   ]
  },
  {
   "cell_type": "code",
   "execution_count": 14,
   "metadata": {},
   "outputs": [
    {
     "data": {
      "text/plain": [
       "(103, 3)"
      ]
     },
     "execution_count": 14,
     "metadata": {},
     "output_type": "execute_result"
    }
   ],
   "source": [
    "# show shape\n",
    "tr_df.shape"
   ]
  },
  {
   "cell_type": "markdown",
   "metadata": {},
   "source": [
    "### Part 2"
   ]
  },
  {
   "cell_type": "code",
   "execution_count": 15,
   "metadata": {
    "collapsed": true
   },
   "outputs": [],
   "source": [
    "#alternative solution with pgeocode\n",
    "import pgeocode"
   ]
  },
  {
   "cell_type": "code",
   "execution_count": 37,
   "metadata": {
    "collapsed": true
   },
   "outputs": [],
   "source": [
    "# set Nominatim to Canada\n",
    "GeoCodes=pgeocode.Nominatim('ca')"
   ]
  },
  {
   "cell_type": "code",
   "execution_count": 17,
   "metadata": {
    "collapsed": true
   },
   "outputs": [],
   "source": [
    "# get coordinates from the pgeocode package\n",
    "coordinates=GeoCodes.query_postal_code(tr_df[\"Postcode\"].values)[[\"postal_code\",\"latitude\",\"longitude\"]]"
   ]
  },
  {
   "cell_type": "code",
   "execution_count": 38,
   "metadata": {},
   "outputs": [
    {
     "data": {
      "text/plain": [
       "postal_code                                              M7A\n",
       "country code                                              CA\n",
       "place_name        Queen's Park Ontario Provincial Government\n",
       "state_name                                           Ontario\n",
       "state_code                                                ON\n",
       "county_name                                              NaN\n",
       "county_code                                              NaN\n",
       "community_name                                           NaN\n",
       "community_code                                           NaN\n",
       "latitude                                             43.6641\n",
       "longitude                                           -79.3889\n",
       "accuracy                                                 NaN\n",
       "Name: 0, dtype: object"
      ]
     },
     "execution_count": 38,
     "metadata": {},
     "output_type": "execute_result"
    }
   ],
   "source": [
    "GeoCodes.query_postal_code(\"M7A\")"
   ]
  },
  {
   "cell_type": "code",
   "execution_count": 18,
   "metadata": {},
   "outputs": [
    {
     "data": {
      "text/plain": [
       "postal_code       M7R\n",
       "country code      NaN\n",
       "place_name        NaN\n",
       "state_name        NaN\n",
       "state_code        NaN\n",
       "county_name       NaN\n",
       "county_code       NaN\n",
       "community_name    NaN\n",
       "community_code    NaN\n",
       "latitude          NaN\n",
       "longitude         NaN\n",
       "accuracy          NaN\n",
       "Name: 0, dtype: object"
      ]
     },
     "execution_count": 18,
     "metadata": {},
     "output_type": "execute_result"
    }
   ],
   "source": [
    "# well, pgeocode is nice, but this has to be fixed. For simplicity I did by hand, but a better solution would be to ask the geocoder in this case!\n",
    "GeoCodes.query_postal_code(\"M7R\")"
   ]
  },
  {
   "cell_type": "code",
   "execution_count": 19,
   "metadata": {
    "collapsed": true
   },
   "outputs": [],
   "source": [
    "# merge the data\n",
    "tr_coord=tr_df.merge(coordinates,how=\"left\",left_on=\"Postcode\",right_on=\"postal_code\").drop([\"postal_code\"],axis=1)"
   ]
  },
  {
   "cell_type": "code",
   "execution_count": 22,
   "metadata": {},
   "outputs": [
    {
     "data": {
      "text/html": [
       "<div>\n",
       "<style>\n",
       "    .dataframe thead tr:only-child th {\n",
       "        text-align: right;\n",
       "    }\n",
       "\n",
       "    .dataframe thead th {\n",
       "        text-align: left;\n",
       "    }\n",
       "\n",
       "    .dataframe tbody tr th {\n",
       "        vertical-align: top;\n",
       "    }\n",
       "</style>\n",
       "<table border=\"1\" class=\"dataframe\">\n",
       "  <thead>\n",
       "    <tr style=\"text-align: right;\">\n",
       "      <th></th>\n",
       "      <th>Postcode</th>\n",
       "      <th>Borough</th>\n",
       "      <th>Neighbourhood</th>\n",
       "      <th>latitude</th>\n",
       "      <th>longitude</th>\n",
       "    </tr>\n",
       "  </thead>\n",
       "  <tbody>\n",
       "    <tr>\n",
       "      <th>0</th>\n",
       "      <td>M3A</td>\n",
       "      <td>North York</td>\n",
       "      <td>Parkwoods</td>\n",
       "      <td>43.7545</td>\n",
       "      <td>-79.3300</td>\n",
       "    </tr>\n",
       "    <tr>\n",
       "      <th>1</th>\n",
       "      <td>M4A</td>\n",
       "      <td>North York</td>\n",
       "      <td>Victoria Village</td>\n",
       "      <td>43.7276</td>\n",
       "      <td>-79.3148</td>\n",
       "    </tr>\n",
       "    <tr>\n",
       "      <th>2</th>\n",
       "      <td>M5A</td>\n",
       "      <td>Downtown Toronto</td>\n",
       "      <td>Harbourfront</td>\n",
       "      <td>43.6555</td>\n",
       "      <td>-79.3626</td>\n",
       "    </tr>\n",
       "    <tr>\n",
       "      <th>3</th>\n",
       "      <td>M6A</td>\n",
       "      <td>North York</td>\n",
       "      <td>Lawrence Heights,Lawrence Manor</td>\n",
       "      <td>43.7223</td>\n",
       "      <td>-79.4504</td>\n",
       "    </tr>\n",
       "    <tr>\n",
       "      <th>4</th>\n",
       "      <td>M7A</td>\n",
       "      <td>Downtown Toronto</td>\n",
       "      <td>Queen's Park</td>\n",
       "      <td>43.6641</td>\n",
       "      <td>-79.3889</td>\n",
       "    </tr>\n",
       "  </tbody>\n",
       "</table>\n",
       "</div>"
      ],
      "text/plain": [
       "  Postcode           Borough                    Neighbourhood  latitude  \\\n",
       "0      M3A        North York                        Parkwoods   43.7545   \n",
       "1      M4A        North York                 Victoria Village   43.7276   \n",
       "2      M5A  Downtown Toronto                     Harbourfront   43.6555   \n",
       "3      M6A        North York  Lawrence Heights,Lawrence Manor   43.7223   \n",
       "4      M7A  Downtown Toronto                     Queen's Park   43.6641   \n",
       "\n",
       "   longitude  \n",
       "0   -79.3300  \n",
       "1   -79.3148  \n",
       "2   -79.3626  \n",
       "3   -79.4504  \n",
       "4   -79.3889  "
      ]
     },
     "execution_count": 22,
     "metadata": {},
     "output_type": "execute_result"
    }
   ],
   "source": [
    "tr_coord.head()"
   ]
  },
  {
   "cell_type": "code",
   "execution_count": 23,
   "metadata": {},
   "outputs": [
    {
     "data": {
      "text/html": [
       "<div>\n",
       "<style>\n",
       "    .dataframe thead tr:only-child th {\n",
       "        text-align: right;\n",
       "    }\n",
       "\n",
       "    .dataframe thead th {\n",
       "        text-align: left;\n",
       "    }\n",
       "\n",
       "    .dataframe tbody tr th {\n",
       "        vertical-align: top;\n",
       "    }\n",
       "</style>\n",
       "<table border=\"1\" class=\"dataframe\">\n",
       "  <thead>\n",
       "    <tr style=\"text-align: right;\">\n",
       "      <th></th>\n",
       "      <th>Postcode</th>\n",
       "      <th>Borough</th>\n",
       "      <th>Neighbourhood</th>\n",
       "      <th>latitude</th>\n",
       "      <th>longitude</th>\n",
       "    </tr>\n",
       "  </thead>\n",
       "  <tbody>\n",
       "    <tr>\n",
       "      <th>76</th>\n",
       "      <td>M7R</td>\n",
       "      <td>Mississauga</td>\n",
       "      <td>Canada Post Gateway Processing Centre</td>\n",
       "      <td>NaN</td>\n",
       "      <td>NaN</td>\n",
       "    </tr>\n",
       "  </tbody>\n",
       "</table>\n",
       "</div>"
      ],
      "text/plain": [
       "   Postcode      Borough                          Neighbourhood  latitude  \\\n",
       "76      M7R  Mississauga  Canada Post Gateway Processing Centre       NaN   \n",
       "\n",
       "    longitude  \n",
       "76        NaN  "
      ]
     },
     "execution_count": 23,
     "metadata": {},
     "output_type": "execute_result"
    }
   ],
   "source": [
    "tr_coord[tr_coord.Postcode==\"M7R\"]"
   ]
  },
  {
   "cell_type": "code",
   "execution_count": 24,
   "metadata": {
    "collapsed": true
   },
   "outputs": [],
   "source": [
    "tr_coord.loc[76,\"latitude\"]=43.6370\n",
    "tr_coord.loc[76,\"longitude\"]=-79.6158"
   ]
  },
  {
   "cell_type": "code",
   "execution_count": 25,
   "metadata": {},
   "outputs": [
    {
     "data": {
      "text/html": [
       "<div>\n",
       "<style>\n",
       "    .dataframe thead tr:only-child th {\n",
       "        text-align: right;\n",
       "    }\n",
       "\n",
       "    .dataframe thead th {\n",
       "        text-align: left;\n",
       "    }\n",
       "\n",
       "    .dataframe tbody tr th {\n",
       "        vertical-align: top;\n",
       "    }\n",
       "</style>\n",
       "<table border=\"1\" class=\"dataframe\">\n",
       "  <thead>\n",
       "    <tr style=\"text-align: right;\">\n",
       "      <th></th>\n",
       "      <th>Postcode</th>\n",
       "      <th>Borough</th>\n",
       "      <th>Neighbourhood</th>\n",
       "      <th>latitude</th>\n",
       "      <th>longitude</th>\n",
       "    </tr>\n",
       "  </thead>\n",
       "  <tbody>\n",
       "    <tr>\n",
       "      <th>76</th>\n",
       "      <td>M7R</td>\n",
       "      <td>Mississauga</td>\n",
       "      <td>Canada Post Gateway Processing Centre</td>\n",
       "      <td>43.637</td>\n",
       "      <td>-79.6158</td>\n",
       "    </tr>\n",
       "  </tbody>\n",
       "</table>\n",
       "</div>"
      ],
      "text/plain": [
       "   Postcode      Borough                          Neighbourhood  latitude  \\\n",
       "76      M7R  Mississauga  Canada Post Gateway Processing Centre    43.637   \n",
       "\n",
       "    longitude  \n",
       "76   -79.6158  "
      ]
     },
     "execution_count": 25,
     "metadata": {},
     "output_type": "execute_result"
    }
   ],
   "source": [
    "tr_coord[tr_coord.Postcode==\"M7R\"]"
   ]
  },
  {
   "cell_type": "code",
   "execution_count": 26,
   "metadata": {},
   "outputs": [
    {
     "data": {
      "text/plain": [
       "11"
      ]
     },
     "execution_count": 26,
     "metadata": {},
     "output_type": "execute_result"
    }
   ],
   "source": [
    "len(tr_coord.Borough.unique())"
   ]
  },
  {
   "cell_type": "markdown",
   "metadata": {},
   "source": [
    "### Part 3"
   ]
  },
  {
   "cell_type": "code",
   "execution_count": 27,
   "metadata": {
    "collapsed": true
   },
   "outputs": [],
   "source": [
    "# imports for maps and plotting\n",
    "import folium\n",
    "import matplotlib.pyplot as plt\n",
    "import matplotlib as mpl\n",
    "from matplotlib import colors\n",
    "from geopy.geocoders import Nominatim # convert an address into latitude and longitude values"
   ]
  },
  {
   "cell_type": "code",
   "execution_count": 28,
   "metadata": {
    "collapsed": true
   },
   "outputs": [],
   "source": [
    "# produce df from CSS colors\n",
    "CSScolors=pd.DataFrame.from_dict(colors.CSS4_COLORS,orient='index').rename(columns={0:\"code\"})"
   ]
  },
  {
   "cell_type": "code",
   "execution_count": 29,
   "metadata": {
    "collapsed": true
   },
   "outputs": [],
   "source": [
    "# permute the df\n",
    "CSScolors=CSScolors.reindex(np.random.permutation(CSScolors.index))"
   ]
  },
  {
   "cell_type": "code",
   "execution_count": 30,
   "metadata": {},
   "outputs": [
    {
     "name": "stdout",
     "output_type": "stream",
     "text": [
      "The dataframe has 11 boroughs and 103 postcodes.\n"
     ]
    }
   ],
   "source": [
    "# count boroughs and postal areas\n",
    "print('The dataframe has {} boroughs and {} postcodes.'.format(\n",
    "        len(tr_coord['Borough'].unique()),\n",
    "        tr_coord.shape[0]\n",
    "    )\n",
    ")"
   ]
  },
  {
   "cell_type": "code",
   "execution_count": 31,
   "metadata": {
    "collapsed": true
   },
   "outputs": [],
   "source": [
    "# color map the boroughs\n",
    "colorMap=dict(zip(tr_coord['Borough'].unique(),CSScolors.iloc[0:len(tr_coord['Borough'].unique()),0].values))"
   ]
  },
  {
   "cell_type": "code",
   "execution_count": 32,
   "metadata": {},
   "outputs": [
    {
     "data": {
      "text/plain": [
       "{'Central Toronto': '#F8F8FF',\n",
       " 'Downtown Toronto': '#ADD8E6',\n",
       " 'East Toronto': '#FFE4E1',\n",
       " 'East York': '#4169E1',\n",
       " 'Etobicoke': '#DAA520',\n",
       " 'Mississauga': '#CD5C5C',\n",
       " 'North York': '#008080',\n",
       " \"Queen's Park\": '#BC8F8F',\n",
       " 'Scarborough': '#FFE4C4',\n",
       " 'West Toronto': '#8B008B',\n",
       " 'York': '#00008B'}"
      ]
     },
     "execution_count": 32,
     "metadata": {},
     "output_type": "execute_result"
    }
   ],
   "source": [
    "colorMap"
   ]
  },
  {
   "cell_type": "code",
   "execution_count": 33,
   "metadata": {},
   "outputs": [
    {
     "name": "stdout",
     "output_type": "stream",
     "text": [
      "The geograpical coordinate of Toronto are 43.653963, -79.387207.\n"
     ]
    }
   ],
   "source": [
    "# get coordinates of Toronto\n",
    "address = 'Toronto, CA'\n",
    "\n",
    "geolocator = Nominatim(user_agent=\"ny_explorer\")\n",
    "location = geolocator.geocode(address)\n",
    "latitude = location.latitude\n",
    "longitude = location.longitude\n",
    "print('The geograpical coordinate of Toronto are {}, {}.'.format(latitude, longitude))"
   ]
  },
  {
   "cell_type": "code",
   "execution_count": 34,
   "metadata": {},
   "outputs": [
    {
     "data": {
      "text/html": [
       "<div style=\"width:100%;\"><div style=\"position:relative;width:100%;height:0;padding-bottom:60%;\"><iframe src=\"data:text/html;charset=utf-8;base64,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\" style=\"position:absolute;width:100%;height:100%;left:0;top:0;border:none !important;\" allowfullscreen webkitallowfullscreen mozallowfullscreen></iframe></div></div>"
      ],
      "text/plain": [
       "<folium.folium.Map at 0x7f4df0fff3c8>"
      ]
     },
     "execution_count": 34,
     "metadata": {},
     "output_type": "execute_result"
    }
   ],
   "source": [
    "# create map of Toronto using latitude and longitude values\n",
    "map_toronto = folium.Map(location=[latitude, longitude], zoom_start=10)\n",
    "\n",
    "# add markers to map\n",
    "for lat, lng, borough, postcode in zip(tr_coord['latitude'], tr_coord['longitude'], tr_coord['Borough'], tr_coord['Postcode']):\n",
    "    label = '{}, {}'.format(borough, postcode)\n",
    "    label = folium.Popup(label, parse_html=True)\n",
    "    folium.CircleMarker(\n",
    "        [lat, lng],\n",
    "        radius=5,\n",
    "        popup=label,\n",
    "        color=colorMap[borough],#'blue',\n",
    "        fill=True,\n",
    "        fill_color=\"black\",#colorMap[borough],#'#3186cc',\n",
    "        fill_opacity=0.7,\n",
    "        parse_html=False).add_to(map_toronto)  \n",
    "    \n",
    "map_toronto"
   ]
  },
  {
   "cell_type": "code",
   "execution_count": 35,
   "metadata": {},
   "outputs": [
    {
     "data": {
      "text/html": [
       "<div>\n",
       "<style>\n",
       "    .dataframe thead tr:only-child th {\n",
       "        text-align: right;\n",
       "    }\n",
       "\n",
       "    .dataframe thead th {\n",
       "        text-align: left;\n",
       "    }\n",
       "\n",
       "    .dataframe tbody tr th {\n",
       "        vertical-align: top;\n",
       "    }\n",
       "</style>\n",
       "<table border=\"1\" class=\"dataframe\">\n",
       "  <thead>\n",
       "    <tr style=\"text-align: right;\">\n",
       "      <th></th>\n",
       "      <th>Borough</th>\n",
       "      <th>latitude</th>\n",
       "      <th>longitude</th>\n",
       "    </tr>\n",
       "  </thead>\n",
       "  <tbody>\n",
       "    <tr>\n",
       "      <th>0</th>\n",
       "      <td>Central Toronto</td>\n",
       "      <td>43.701933</td>\n",
       "      <td>-79.399644</td>\n",
       "    </tr>\n",
       "    <tr>\n",
       "      <th>1</th>\n",
       "      <td>Downtown Toronto</td>\n",
       "      <td>43.654426</td>\n",
       "      <td>-79.384774</td>\n",
       "    </tr>\n",
       "    <tr>\n",
       "      <th>2</th>\n",
       "      <td>East Toronto</td>\n",
       "      <td>43.692900</td>\n",
       "      <td>-79.310900</td>\n",
       "    </tr>\n",
       "    <tr>\n",
       "      <th>3</th>\n",
       "      <td>East York</td>\n",
       "      <td>43.700620</td>\n",
       "      <td>-79.333720</td>\n",
       "    </tr>\n",
       "    <tr>\n",
       "      <th>4</th>\n",
       "      <td>Etobicoke</td>\n",
       "      <td>43.659636</td>\n",
       "      <td>-79.542136</td>\n",
       "    </tr>\n",
       "    <tr>\n",
       "      <th>5</th>\n",
       "      <td>Mississauga</td>\n",
       "      <td>43.637000</td>\n",
       "      <td>-79.615800</td>\n",
       "    </tr>\n",
       "    <tr>\n",
       "      <th>6</th>\n",
       "      <td>North York</td>\n",
       "      <td>43.750912</td>\n",
       "      <td>-79.429067</td>\n",
       "    </tr>\n",
       "    <tr>\n",
       "      <th>7</th>\n",
       "      <td>Queen's Park</td>\n",
       "      <td>43.666200</td>\n",
       "      <td>-79.528200</td>\n",
       "    </tr>\n",
       "    <tr>\n",
       "      <th>8</th>\n",
       "      <td>Scarborough</td>\n",
       "      <td>43.768000</td>\n",
       "      <td>-79.247941</td>\n",
       "    </tr>\n",
       "    <tr>\n",
       "      <th>9</th>\n",
       "      <td>West Toronto</td>\n",
       "      <td>43.651733</td>\n",
       "      <td>-79.447300</td>\n",
       "    </tr>\n",
       "    <tr>\n",
       "      <th>10</th>\n",
       "      <td>York</td>\n",
       "      <td>43.691080</td>\n",
       "      <td>-79.473600</td>\n",
       "    </tr>\n",
       "  </tbody>\n",
       "</table>\n",
       "</div>"
      ],
      "text/plain": [
       "             Borough   latitude  longitude\n",
       "0    Central Toronto  43.701933 -79.399644\n",
       "1   Downtown Toronto  43.654426 -79.384774\n",
       "2       East Toronto  43.692900 -79.310900\n",
       "3          East York  43.700620 -79.333720\n",
       "4          Etobicoke  43.659636 -79.542136\n",
       "5        Mississauga  43.637000 -79.615800\n",
       "6         North York  43.750912 -79.429067\n",
       "7       Queen's Park  43.666200 -79.528200\n",
       "8        Scarborough  43.768000 -79.247941\n",
       "9       West Toronto  43.651733 -79.447300\n",
       "10              York  43.691080 -79.473600"
      ]
     },
     "execution_count": 35,
     "metadata": {},
     "output_type": "execute_result"
    }
   ],
   "source": [
    "# combine boroughs\n",
    "tr_borough=tr_coord.groupby(\"Borough\").mean().reset_index()\n",
    "tr_borough"
   ]
  },
  {
   "cell_type": "code",
   "execution_count": 36,
   "metadata": {},
   "outputs": [
    {
     "data": {
      "text/html": [
       "<div style=\"width:100%;\"><div style=\"position:relative;width:100%;height:0;padding-bottom:60%;\"><iframe src=\"data:text/html;charset=utf-8;base64,PCFET0NUWVBFIGh0bWw+CjxoZWFkPiAgICAKICAgIDxtZXRhIGh0dHAtZXF1aXY9ImNvbnRlbnQtdHlwZSIgY29udGVudD0idGV4dC9odG1sOyBjaGFyc2V0PVVURi04IiAvPgogICAgCiAgICAgICAgPHNjcmlwdD4KICAgICAgICAgICAgTF9OT19UT1VDSCA9IGZhbHNlOwogICAgICAgICAgICBMX0RJU0FCTEVfM0QgPSBmYWxzZTsKICAgICAgICA8L3NjcmlwdD4KICAgIAogICAgPHNjcmlwdCBzcmM9Imh0dHBzOi8vY2RuLmpzZGVsaXZyLm5ldC9ucG0vbGVhZmxldEAxLjUuMS9kaXN0L2xlYWZsZXQuanMiPjwvc2NyaXB0PgogICAgPHNjcmlwdCBzcmM9Imh0dHBzOi8vY29kZS5qcXVlcnkuY29tL2pxdWVyeS0xLjEyLjQubWluLmpzIj48L3NjcmlwdD4KICAgIDxzY3JpcHQgc3JjPSJodHRwczovL21heGNkbi5ib290c3RyYXBjZG4uY29tL2Jvb3RzdHJhcC8zLjIuMC9qcy9ib290c3RyYXAubWluLmpzIj48L3NjcmlwdD4KICAgIDxzY3JpcHQgc3JjPSJodHRwczovL2NkbmpzLmNsb3VkZmxhcmUuY29tL2FqYXgvbGlicy9MZWFmbGV0LmF3ZXNvbWUtbWFya2Vycy8yLjAuMi9sZWFmbGV0LmF3ZXNvbWUtbWFya2Vycy5qcyI+PC9zY3JpcHQ+CiAgICA8bGluayByZWw9InN0eWxlc2hlZXQiIGhyZWY9Imh0dHBzOi8vY2RuLmpzZGVsaXZyLm5ldC9ucG0vbGVhZmxldEAxLjUuMS9kaXN0L2xlYWZsZXQuY3NzIi8+CiAgICA8bGluayByZWw9InN0eWxlc2hlZXQiIGhyZWY9Imh0dHBzOi8vbWF4Y2RuLmJvb3RzdHJhcGNkbi5jb20vYm9vdHN0cmFwLzMuMi4wL2Nzcy9ib290c3RyYXAubWluLmNzcyIvPgogICAgPGxpbmsgcmVsPSJzdHlsZXNoZWV0IiBocmVmPSJodHRwczovL21heGNkbi5ib290c3RyYXBjZG4uY29tL2Jvb3RzdHJhcC8zLjIuMC9jc3MvYm9vdHN0cmFwLXRoZW1lLm1pbi5jc3MiLz4KICAgIDxsaW5rIHJlbD0ic3R5bGVzaGVldCIgaHJlZj0iaHR0cHM6Ly9tYXhjZG4uYm9vdHN0cmFwY2RuLmNvbS9mb250LWF3ZXNvbWUvNC42LjMvY3NzL2ZvbnQtYXdlc29tZS5taW4uY3NzIi8+CiAgICA8bGluayByZWw9InN0eWxlc2hlZXQiIGhyZWY9Imh0dHBzOi8vY2RuanMuY2xvdWRmbGFyZS5jb20vYWpheC9saWJzL0xlYWZsZXQuYXdlc29tZS1tYXJrZXJzLzIuMC4yL2xlYWZsZXQuYXdlc29tZS1tYXJrZXJzLmNzcyIvPgogICAgPGxpbmsgcmVsPSJzdHlsZXNoZWV0IiBocmVmPSJodHRwczovL3Jhd2Nkbi5naXRoYWNrLmNvbS9weXRob24tdmlzdWFsaXphdGlvbi9mb2xpdW0vbWFzdGVyL2ZvbGl1bS90ZW1wbGF0ZXMvbGVhZmxldC5hd2Vzb21lLnJvdGF0ZS5jc3MiLz4KICAgIDxzdHlsZT5odG1sLCBib2R5IHt3aWR0aDogMTAwJTtoZWlnaHQ6IDEwMCU7bWFyZ2luOiAwO3BhZGRpbmc6IDA7fTwvc3R5bGU+CiAgICA8c3R5bGU+I21hcCB7cG9zaXRpb246YWJzb2x1dGU7dG9wOjA7Ym90dG9tOjA7cmlnaHQ6MDtsZWZ0OjA7fTwvc3R5bGU+CiAgICAKICAgICAgICAgICAgPG1ldGEgbmFtZT0idmlld3BvcnQiIGNvbnRlbnQ9IndpZHRoPWRldmljZS13aWR0aCwKICAgICAgICAgICAgICAgIGluaXRpYWwtc2NhbGU9MS4wLCBtYXhpbXVtLXNjYWxlPTEuMCwgdXNlci1zY2FsYWJsZT1ubyIgLz4KICAgICAgICAgICAgPHN0eWxlPgogICAgICAgICAgICAgICAgI21hcF84M2UzNGEwNGM2OGQ0ODNmOGQ5Mzc3NDViODM4OTg5MSB7CiAgICAgICAgICAgICAgICAgICAgcG9zaXRpb246IHJlbGF0aXZlOwogICAgICAgICAgICAgICAgICAgIHdpZHRoOiAxMDAuMCU7CiAgICAgICAgICAgICAgICAgICAgaGVpZ2h0OiAxMDAuMCU7CiAgICAgICAgICAgICAgICAgICAgbGVmdDogMC4wJTsKICAgICAgICAgICAgICAgICAgICB0b3A6IDAuMCU7CiAgICAgICAgICAgICAgICB9CiAgICAgICAgICAgIDwvc3R5bGU+CiAgICAgICAgCjwvaGVhZD4KPGJvZHk+ICAgIAogICAgCiAgICAgICAgICAgIDxkaXYgY2xhc3M9ImZvbGl1bS1tYXAiIGlkPSJtYXBfODNlMzRhMDRjNjhkNDgzZjhkOTM3NzQ1YjgzODk4OTEiID48L2Rpdj4KICAgICAgICAKPC9ib2R5Pgo8c2NyaXB0PiAgICAKICAgIAogICAgICAgICAgICB2YXIgbWFwXzgzZTM0YTA0YzY4ZDQ4M2Y4ZDkzNzc0NWI4Mzg5ODkxID0gTC5tYXAoCiAgICAgICAgICAgICAgICAibWFwXzgzZTM0YTA0YzY4ZDQ4M2Y4ZDkzNzc0NWI4Mzg5ODkxIiwKICAgICAgICAgICAgICAgIHsKICAgICAgICAgICAgICAgICAgICBjZW50ZXI6IFs0My42NTM5NjMsIC03OS4zODcyMDddLAogICAgICAgICAgICAgICAgICAgIGNyczogTC5DUlMuRVBTRzM4NTcsCiAgICAgICAgICAgICAgICAgICAgem9vbTogMTAsCiAgICAgICAgICAgICAgICAgICAgem9vbUNvbnRyb2w6IHRydWUsCiAgICAgICAgICAgICAgICAgICAgcHJlZmVyQ2FudmFzOiBmYWxzZSwKICAgICAgICAgICAgICAgIH0KICAgICAgICAgICAgKTsKCiAgICAgICAgICAgIAoKICAgICAgICAKICAgIAogICAgICAgICAgICB2YXIgdGlsZV9sYXllcl8wMTE4OGJjMWJkMjk0NmJjOWE5NjgyNmJhZGQ4MDA3OCA9IEwudGlsZUxheWVyKAogICAgICAgICAgICAgICAgImh0dHBzOi8ve3N9LnRpbGUub3BlbnN0cmVldG1hcC5vcmcve3p9L3t4fS97eX0ucG5nIiwKICAgICAgICAgICAgICAgIHsiYXR0cmlidXRpb24iOiAiRGF0YSBieSBcdTAwMjZjb3B5OyBcdTAwM2NhIGhyZWY9XCJodHRwOi8vb3BlbnN0cmVldG1hcC5vcmdcIlx1MDAzZU9wZW5TdHJlZXRNYXBcdTAwM2MvYVx1MDAzZSwgdW5kZXIgXHUwMDNjYSBocmVmPVwiaHR0cDovL3d3dy5vcGVuc3RyZWV0bWFwLm9yZy9jb3B5cmlnaHRcIlx1MDAzZU9EYkxcdTAwM2MvYVx1MDAzZS4iLCAiZGV0ZWN0UmV0aW5hIjogZmFsc2UsICJtYXhOYXRpdmVab29tIjogMTgsICJtYXhab29tIjogMTgsICJtaW5ab29tIjogMCwgIm5vV3JhcCI6IGZhbHNlLCAib3BhY2l0eSI6IDEsICJzdWJkb21haW5zIjogImFiYyIsICJ0bXMiOiBmYWxzZX0KICAgICAgICAgICAgKS5hZGRUbyhtYXBfODNlMzRhMDRjNjhkNDgzZjhkOTM3NzQ1YjgzODk4OTEpOwogICAgICAgIAogICAgCiAgICAgICAgICAgIHZhciBjaXJjbGVfbWFya2VyXzFjNzlkMzgwNzBkNzQxN2U5YWVlNGNkYjZhZmJlNDI5ID0gTC5jaXJjbGVNYXJrZXIoCiAgICAgICAgICAgICAgICBbNDMuNzAxOTMzMzMzMzMzMzM2LCAtNzkuMzk5NjQ0NDQ0NDQ0NDVdLAogICAgICAgICAgICAgICAgeyJidWJibGluZ01vdXNlRXZlbnRzIjogdHJ1ZSwgImNvbG9yIjogIiNGOEY4RkYiLCAiZGFzaEFycmF5IjogbnVsbCwgImRhc2hPZmZzZXQiOiBudWxsLCAiZmlsbCI6IHRydWUsICJmaWxsQ29sb3IiOiAiYmxhY2siLCAiZmlsbE9wYWNpdHkiOiAwLjcsICJmaWxsUnVsZSI6ICJldmVub2RkIiwgImxpbmVDYXAiOiAicm91bmQiLCAibGluZUpvaW4iOiAicm91bmQiLCAib3BhY2l0eSI6IDEuMCwgInJhZGl1cyI6IDQsICJzdHJva2UiOiB0cnVlLCAid2VpZ2h0IjogM30KICAgICAgICAgICAgKS5hZGRUbyhtYXBfODNlMzRhMDRjNjhkNDgzZjhkOTM3NzQ1YjgzODk4OTEpOwogICAgICAgIAogICAgCiAgICAgICAgdmFyIHBvcHVwXzEzNDY0M2Y3NzQyNzRlYmFhMWZjMjIyNjRmYzUxNTMzID0gTC5wb3B1cCh7Im1heFdpZHRoIjogIjEwMCUifSk7CgogICAgICAgIAogICAgICAgICAgICB2YXIgaHRtbF8yMTBlOTFmMGU2YTk0Njg0YTk4OTA4OTUzNGUzMDRjMiA9ICQoYDxkaXYgaWQ9Imh0bWxfMjEwZTkxZjBlNmE5NDY4NGE5ODkwODk1MzRlMzA0YzIiIHN0eWxlPSJ3aWR0aDogMTAwLjAlOyBoZWlnaHQ6IDEwMC4wJTsiPkNlbnRyYWwgVG9yb250bzwvZGl2PmApWzBdOwogICAgICAgICAgICBwb3B1cF8xMzQ2NDNmNzc0Mjc0ZWJhYTFmYzIyMjY0ZmM1MTUzMy5zZXRDb250ZW50KGh0bWxfMjEwZTkxZjBlNmE5NDY4NGE5ODkwODk1MzRlMzA0YzIpOwogICAgICAgIAoKICAgICAgICBjaXJjbGVfbWFya2VyXzFjNzlkMzgwNzBkNzQxN2U5YWVlNGNkYjZhZmJlNDI5LmJpbmRQb3B1cChwb3B1cF8xMzQ2NDNmNzc0Mjc0ZWJhYTFmYzIyMjY0ZmM1MTUzMykKICAgICAgICA7CgogICAgICAgIAogICAgCiAgICAKICAgICAgICAgICAgdmFyIGNpcmNsZV9tYXJrZXJfNGNiN2Q2MTlmYjM1NGYzNzgwMzc2MWJlNTQzOTQ4M2UgPSBMLmNpcmNsZU1hcmtlcigKICAgICAgICAgICAgICAgIFs0My42NTQ0MjYzMTU3ODk0NywgLTc5LjM4NDc3MzY4NDIxMDUzXSwKICAgICAgICAgICAgICAgIHsiYnViYmxpbmdNb3VzZUV2ZW50cyI6IHRydWUsICJjb2xvciI6ICIjQUREOEU2IiwgImRhc2hBcnJheSI6IG51bGwsICJkYXNoT2Zmc2V0IjogbnVsbCwgImZpbGwiOiB0cnVlLCAiZmlsbENvbG9yIjogImJsYWNrIiwgImZpbGxPcGFjaXR5IjogMC43LCAiZmlsbFJ1bGUiOiAiZXZlbm9kZCIsICJsaW5lQ2FwIjogInJvdW5kIiwgImxpbmVKb2luIjogInJvdW5kIiwgIm9wYWNpdHkiOiAxLjAsICJyYWRpdXMiOiA0LCAic3Ryb2tlIjogdHJ1ZSwgIndlaWdodCI6IDN9CiAgICAgICAgICAgICkuYWRkVG8obWFwXzgzZTM0YTA0YzY4ZDQ4M2Y4ZDkzNzc0NWI4Mzg5ODkxKTsKICAgICAgICAKICAgIAogICAgICAgIHZhciBwb3B1cF8xMzAyMjQ4YjAxOWU0YjE3YTM4ZjU2ZTY1MzZhNmVhMyA9IEwucG9wdXAoeyJtYXhXaWR0aCI6ICIxMDAlIn0pOwoKICAgICAgICAKICAgICAgICAgICAgdmFyIGh0bWxfZGEyYmVlMjk1ZDcyNDliZjliZjg5NDJhNzg1ZDlmOWEgPSAkKGA8ZGl2IGlkPSJodG1sX2RhMmJlZTI5NWQ3MjQ5YmY5YmY4OTQyYTc4NWQ5ZjlhIiBzdHlsZT0id2lkdGg6IDEwMC4wJTsgaGVpZ2h0OiAxMDAuMCU7Ij5Eb3dudG93biBUb3JvbnRvPC9kaXY+YClbMF07CiAgICAgICAgICAgIHBvcHVwXzEzMDIyNDhiMDE5ZTRiMTdhMzhmNTZlNjUzNmE2ZWEzLnNldENvbnRlbnQoaHRtbF9kYTJiZWUyOTVkNzI0OWJmOWJmODk0MmE3ODVkOWY5YSk7CiAgICAgICAgCgogICAgICAgIGNpcmNsZV9tYXJrZXJfNGNiN2Q2MTlmYjM1NGYzNzgwMzc2MWJlNTQzOTQ4M2UuYmluZFBvcHVwKHBvcHVwXzEzMDIyNDhiMDE5ZTRiMTdhMzhmNTZlNjUzNmE2ZWEzKQogICAgICAgIDsKCiAgICAgICAgCiAgICAKICAgIAogICAgICAgICAgICB2YXIgY2lyY2xlX21hcmtlcl9lZjQ3ZWU0N2M1OTM0NjRmYTYzN2IwZGU2ZDZiMjJmNiA9IEwuY2lyY2xlTWFya2VyKAogICAgICAgICAgICAgICAgWzQzLjY5Mjg5OTk5OTk5OTk5NSwgLTc5LjMxMDg5OTk5OTk5OTk5XSwKICAgICAgICAgICAgICAgIHsiYnViYmxpbmdNb3VzZUV2ZW50cyI6IHRydWUsICJjb2xvciI6ICIjRkZFNEUxIiwgImRhc2hBcnJheSI6IG51bGwsICJkYXNoT2Zmc2V0IjogbnVsbCwgImZpbGwiOiB0cnVlLCAiZmlsbENvbG9yIjogImJsYWNrIiwgImZpbGxPcGFjaXR5IjogMC43LCAiZmlsbFJ1bGUiOiAiZXZlbm9kZCIsICJsaW5lQ2FwIjogInJvdW5kIiwgImxpbmVKb2luIjogInJvdW5kIiwgIm9wYWNpdHkiOiAxLjAsICJyYWRpdXMiOiA0LCAic3Ryb2tlIjogdHJ1ZSwgIndlaWdodCI6IDN9CiAgICAgICAgICAgICkuYWRkVG8obWFwXzgzZTM0YTA0YzY4ZDQ4M2Y4ZDkzNzc0NWI4Mzg5ODkxKTsKICAgICAgICAKICAgIAogICAgICAgIHZhciBwb3B1cF9kYTgwZDYxYmY2NDc0YmU0OWQzMTNlMjc4ZjI4ZGJkNSA9IEwucG9wdXAoeyJtYXhXaWR0aCI6ICIxMDAlIn0pOwoKICAgICAgICAKICAgICAgICAgICAgdmFyIGh0bWxfYWNlNGMwOTMyNzEyNDE2MDgzYTllZTllZjNlOGY0ZDMgPSAkKGA8ZGl2IGlkPSJodG1sX2FjZTRjMDkzMjcxMjQxNjA4M2E5ZWU5ZWYzZThmNGQzIiBzdHlsZT0id2lkdGg6IDEwMC4wJTsgaGVpZ2h0OiAxMDAuMCU7Ij5FYXN0IFRvcm9udG88L2Rpdj5gKVswXTsKICAgICAgICAgICAgcG9wdXBfZGE4MGQ2MWJmNjQ3NGJlNDlkMzEzZTI3OGYyOGRiZDUuc2V0Q29udGVudChodG1sX2FjZTRjMDkzMjcxMjQxNjA4M2E5ZWU5ZWYzZThmNGQzKTsKICAgICAgICAKCiAgICAgICAgY2lyY2xlX21hcmtlcl9lZjQ3ZWU0N2M1OTM0NjRmYTYzN2IwZGU2ZDZiMjJmNi5iaW5kUG9wdXAocG9wdXBfZGE4MGQ2MWJmNjQ3NGJlNDlkMzEzZTI3OGYyOGRiZDUpCiAgICAgICAgOwoKICAgICAgICAKICAgIAogICAgCiAgICAgICAgICAgIHZhciBjaXJjbGVfbWFya2VyX2IzYzBjMzJlOTAwYjQzMWVhMzg3YTRhNWQ1OGQ0ZTYxID0gTC5jaXJjbGVNYXJrZXIoCiAgICAgICAgICAgICAgICBbNDMuNzAwNjIsIC03OS4zMzM3Ml0sCiAgICAgICAgICAgICAgICB7ImJ1YmJsaW5nTW91c2VFdmVudHMiOiB0cnVlLCAiY29sb3IiOiAiIzQxNjlFMSIsICJkYXNoQXJyYXkiOiBudWxsLCAiZGFzaE9mZnNldCI6IG51bGwsICJmaWxsIjogdHJ1ZSwgImZpbGxDb2xvciI6ICJibGFjayIsICJmaWxsT3BhY2l0eSI6IDAuNywgImZpbGxSdWxlIjogImV2ZW5vZGQiLCAibGluZUNhcCI6ICJyb3VuZCIsICJsaW5lSm9pbiI6ICJyb3VuZCIsICJvcGFjaXR5IjogMS4wLCAicmFkaXVzIjogNCwgInN0cm9rZSI6IHRydWUsICJ3ZWlnaHQiOiAzfQogICAgICAgICAgICApLmFkZFRvKG1hcF84M2UzNGEwNGM2OGQ0ODNmOGQ5Mzc3NDViODM4OTg5MSk7CiAgICAgICAgCiAgICAKICAgICAgICB2YXIgcG9wdXBfNmFlNGJmZTFiNjQ1NDM5Nzk3YTg3NjEwNDQ4YzAwYWYgPSBMLnBvcHVwKHsibWF4V2lkdGgiOiAiMTAwJSJ9KTsKCiAgICAgICAgCiAgICAgICAgICAgIHZhciBodG1sXzE5ZjExMjFjMGU2ODQ4NWI5YjI1N2NjNzUwOWU2YjAzID0gJChgPGRpdiBpZD0iaHRtbF8xOWYxMTIxYzBlNjg0ODViOWIyNTdjYzc1MDllNmIwMyIgc3R5bGU9IndpZHRoOiAxMDAuMCU7IGhlaWdodDogMTAwLjAlOyI+RWFzdCBZb3JrPC9kaXY+YClbMF07CiAgICAgICAgICAgIHBvcHVwXzZhZTRiZmUxYjY0NTQzOTc5N2E4NzYxMDQ0OGMwMGFmLnNldENvbnRlbnQoaHRtbF8xOWYxMTIxYzBlNjg0ODViOWIyNTdjYzc1MDllNmIwMyk7CiAgICAgICAgCgogICAgICAgIGNpcmNsZV9tYXJrZXJfYjNjMGMzMmU5MDBiNDMxZWEzODdhNGE1ZDU4ZDRlNjEuYmluZFBvcHVwKHBvcHVwXzZhZTRiZmUxYjY0NTQzOTc5N2E4NzYxMDQ0OGMwMGFmKQogICAgICAgIDsKCiAgICAgICAgCiAgICAKICAgIAogICAgICAgICAgICB2YXIgY2lyY2xlX21hcmtlcl9mMTVkYmIxOTkzZjg0YTgzYjZkODdmOGUyYzExZDNmYSA9IEwuY2lyY2xlTWFya2VyKAogICAgICAgICAgICAgICAgWzQzLjY1OTYzNjM2MzYzNjM2NiwgLTc5LjU0MjEzNjM2MzYzNjM3XSwKICAgICAgICAgICAgICAgIHsiYnViYmxpbmdNb3VzZUV2ZW50cyI6IHRydWUsICJjb2xvciI6ICIjREFBNTIwIiwgImRhc2hBcnJheSI6IG51bGwsICJkYXNoT2Zmc2V0IjogbnVsbCwgImZpbGwiOiB0cnVlLCAiZmlsbENvbG9yIjogImJsYWNrIiwgImZpbGxPcGFjaXR5IjogMC43LCAiZmlsbFJ1bGUiOiAiZXZlbm9kZCIsICJsaW5lQ2FwIjogInJvdW5kIiwgImxpbmVKb2luIjogInJvdW5kIiwgIm9wYWNpdHkiOiAxLjAsICJyYWRpdXMiOiA0LCAic3Ryb2tlIjogdHJ1ZSwgIndlaWdodCI6IDN9CiAgICAgICAgICAgICkuYWRkVG8obWFwXzgzZTM0YTA0YzY4ZDQ4M2Y4ZDkzNzc0NWI4Mzg5ODkxKTsKICAgICAgICAKICAgIAogICAgICAgIHZhciBwb3B1cF8yYjQ0NmYxNmVlYzM0MGMwYjliZmY3ZjU5ZDk1ZmM3MyA9IEwucG9wdXAoeyJtYXhXaWR0aCI6ICIxMDAlIn0pOwoKICAgICAgICAKICAgICAgICAgICAgdmFyIGh0bWxfNmJkMGI3MmRlNzM2NDI1M2E1Yzk0Y2JhYzliYmE3ZTIgPSAkKGA8ZGl2IGlkPSJodG1sXzZiZDBiNzJkZTczNjQyNTNhNWM5NGNiYWM5YmJhN2UyIiBzdHlsZT0id2lkdGg6IDEwMC4wJTsgaGVpZ2h0OiAxMDAuMCU7Ij5FdG9iaWNva2U8L2Rpdj5gKVswXTsKICAgICAgICAgICAgcG9wdXBfMmI0NDZmMTZlZWMzNDBjMGI5YmZmN2Y1OWQ5NWZjNzMuc2V0Q29udGVudChodG1sXzZiZDBiNzJkZTczNjQyNTNhNWM5NGNiYWM5YmJhN2UyKTsKICAgICAgICAKCiAgICAgICAgY2lyY2xlX21hcmtlcl9mMTVkYmIxOTkzZjg0YTgzYjZkODdmOGUyYzExZDNmYS5iaW5kUG9wdXAocG9wdXBfMmI0NDZmMTZlZWMzNDBjMGI5YmZmN2Y1OWQ5NWZjNzMpCiAgICAgICAgOwoKICAgICAgICAKICAgIAogICAgCiAgICAgICAgICAgIHZhciBjaXJjbGVfbWFya2VyXzk5NTMyZDE5YzNkYzRhZDZiYTgxYWE0MGQ1NTI5NTczID0gTC5jaXJjbGVNYXJrZXIoCiAgICAgICAgICAgICAgICBbNDMuNjM3LCAtNzkuNjE1OF0sCiAgICAgICAgICAgICAgICB7ImJ1YmJsaW5nTW91c2VFdmVudHMiOiB0cnVlLCAiY29sb3IiOiAiI0NENUM1QyIsICJkYXNoQXJyYXkiOiBudWxsLCAiZGFzaE9mZnNldCI6IG51bGwsICJmaWxsIjogdHJ1ZSwgImZpbGxDb2xvciI6ICJibGFjayIsICJmaWxsT3BhY2l0eSI6IDAuNywgImZpbGxSdWxlIjogImV2ZW5vZGQiLCAibGluZUNhcCI6ICJyb3VuZCIsICJsaW5lSm9pbiI6ICJyb3VuZCIsICJvcGFjaXR5IjogMS4wLCAicmFkaXVzIjogNCwgInN0cm9rZSI6IHRydWUsICJ3ZWlnaHQiOiAzfQogICAgICAgICAgICApLmFkZFRvKG1hcF84M2UzNGEwNGM2OGQ0ODNmOGQ5Mzc3NDViODM4OTg5MSk7CiAgICAgICAgCiAgICAKICAgICAgICB2YXIgcG9wdXBfZWYzMmYxYWIyNzYyNGMzMWJkM2JiYjY3MjRjOWNlZTAgPSBMLnBvcHVwKHsibWF4V2lkdGgiOiAiMTAwJSJ9KTsKCiAgICAgICAgCiAgICAgICAgICAgIHZhciBodG1sX2M5NmY0MWI1ZDAyOTRmMDE4NTllOTFkMDZhYmUwNGE1ID0gJChgPGRpdiBpZD0iaHRtbF9jOTZmNDFiNWQwMjk0ZjAxODU5ZTkxZDA2YWJlMDRhNSIgc3R5bGU9IndpZHRoOiAxMDAuMCU7IGhlaWdodDogMTAwLjAlOyI+TWlzc2lzc2F1Z2E8L2Rpdj5gKVswXTsKICAgICAgICAgICAgcG9wdXBfZWYzMmYxYWIyNzYyNGMzMWJkM2JiYjY3MjRjOWNlZTAuc2V0Q29udGVudChodG1sX2M5NmY0MWI1ZDAyOTRmMDE4NTllOTFkMDZhYmUwNGE1KTsKICAgICAgICAKCiAgICAgICAgY2lyY2xlX21hcmtlcl85OTUzMmQxOWMzZGM0YWQ2YmE4MWFhNDBkNTUyOTU3My5iaW5kUG9wdXAocG9wdXBfZWYzMmYxYWIyNzYyNGMzMWJkM2JiYjY3MjRjOWNlZTApCiAgICAgICAgOwoKICAgICAgICAKICAgIAogICAgCiAgICAgICAgICAgIHZhciBjaXJjbGVfbWFya2VyX2UxODc1Yjc2Y2QwMDQwN2ZiMWExZGVjYzc5ODQ2NjU2ID0gTC5jaXJjbGVNYXJrZXIoCiAgICAgICAgICAgICAgICBbNDMuNzUwOTEyNSwgLTc5LjQyOTA2NjY2NjY2NjY2XSwKICAgICAgICAgICAgICAgIHsiYnViYmxpbmdNb3VzZUV2ZW50cyI6IHRydWUsICJjb2xvciI6ICIjMDA4MDgwIiwgImRhc2hBcnJheSI6IG51bGwsICJkYXNoT2Zmc2V0IjogbnVsbCwgImZpbGwiOiB0cnVlLCAiZmlsbENvbG9yIjogImJsYWNrIiwgImZpbGxPcGFjaXR5IjogMC43LCAiZmlsbFJ1bGUiOiAiZXZlbm9kZCIsICJsaW5lQ2FwIjogInJvdW5kIiwgImxpbmVKb2luIjogInJvdW5kIiwgIm9wYWNpdHkiOiAxLjAsICJyYWRpdXMiOiA0LCAic3Ryb2tlIjogdHJ1ZSwgIndlaWdodCI6IDN9CiAgICAgICAgICAgICkuYWRkVG8obWFwXzgzZTM0YTA0YzY4ZDQ4M2Y4ZDkzNzc0NWI4Mzg5ODkxKTsKICAgICAgICAKICAgIAogICAgICAgIHZhciBwb3B1cF9jNzhmYzYzZWMzMmI0ZWU5ODk4YjEwY2VmYzFlOTlmMSA9IEwucG9wdXAoeyJtYXhXaWR0aCI6ICIxMDAlIn0pOwoKICAgICAgICAKICAgICAgICAgICAgdmFyIGh0bWxfODU1ZjQwZDdkNmUyNDI0ZGIzMjc2NWEwYzM5OTcwMDUgPSAkKGA8ZGl2IGlkPSJodG1sXzg1NWY0MGQ3ZDZlMjQyNGRiMzI3NjVhMGMzOTk3MDA1IiBzdHlsZT0id2lkdGg6IDEwMC4wJTsgaGVpZ2h0OiAxMDAuMCU7Ij5Ob3J0aCBZb3JrPC9kaXY+YClbMF07CiAgICAgICAgICAgIHBvcHVwX2M3OGZjNjNlYzMyYjRlZTk4OThiMTBjZWZjMWU5OWYxLnNldENvbnRlbnQoaHRtbF84NTVmNDBkN2Q2ZTI0MjRkYjMyNzY1YTBjMzk5NzAwNSk7CiAgICAgICAgCgogICAgICAgIGNpcmNsZV9tYXJrZXJfZTE4NzViNzZjZDAwNDA3ZmIxYTFkZWNjNzk4NDY2NTYuYmluZFBvcHVwKHBvcHVwX2M3OGZjNjNlYzMyYjRlZTk4OThiMTBjZWZjMWU5OWYxKQogICAgICAgIDsKCiAgICAgICAgCiAgICAKICAgIAogICAgICAgICAgICB2YXIgY2lyY2xlX21hcmtlcl80YTVhYWJhNjZiMjY0M2UyYTgzM2VlZDllOWJmYzg4YSA9IEwuY2lyY2xlTWFya2VyKAogICAgICAgICAgICAgICAgWzQzLjY2NjIsIC03OS41MjgyXSwKICAgICAgICAgICAgICAgIHsiYnViYmxpbmdNb3VzZUV2ZW50cyI6IHRydWUsICJjb2xvciI6ICIjQkM4RjhGIiwgImRhc2hBcnJheSI6IG51bGwsICJkYXNoT2Zmc2V0IjogbnVsbCwgImZpbGwiOiB0cnVlLCAiZmlsbENvbG9yIjogImJsYWNrIiwgImZpbGxPcGFjaXR5IjogMC43LCAiZmlsbFJ1bGUiOiAiZXZlbm9kZCIsICJsaW5lQ2FwIjogInJvdW5kIiwgImxpbmVKb2luIjogInJvdW5kIiwgIm9wYWNpdHkiOiAxLjAsICJyYWRpdXMiOiA0LCAic3Ryb2tlIjogdHJ1ZSwgIndlaWdodCI6IDN9CiAgICAgICAgICAgICkuYWRkVG8obWFwXzgzZTM0YTA0YzY4ZDQ4M2Y4ZDkzNzc0NWI4Mzg5ODkxKTsKICAgICAgICAKICAgIAogICAgICAgIHZhciBwb3B1cF9jZTM1YTI2OWEzODY0OGE4OTAzNzFhNGRhZWFhM2JjNiA9IEwucG9wdXAoeyJtYXhXaWR0aCI6ICIxMDAlIn0pOwoKICAgICAgICAKICAgICAgICAgICAgdmFyIGh0bWxfYjIzMGE2ZDA0YTE3NDQ3NThkZmJiZjEwZTY0MGQwZDIgPSAkKGA8ZGl2IGlkPSJodG1sX2IyMzBhNmQwNGExNzQ0NzU4ZGZiYmYxMGU2NDBkMGQyIiBzdHlsZT0id2lkdGg6IDEwMC4wJTsgaGVpZ2h0OiAxMDAuMCU7Ij5RdWVlbiYjMzk7cyBQYXJrPC9kaXY+YClbMF07CiAgICAgICAgICAgIHBvcHVwX2NlMzVhMjY5YTM4NjQ4YTg5MDM3MWE0ZGFlYWEzYmM2LnNldENvbnRlbnQoaHRtbF9iMjMwYTZkMDRhMTc0NDc1OGRmYmJmMTBlNjQwZDBkMik7CiAgICAgICAgCgogICAgICAgIGNpcmNsZV9tYXJrZXJfNGE1YWFiYTY2YjI2NDNlMmE4MzNlZWQ5ZTliZmM4OGEuYmluZFBvcHVwKHBvcHVwX2NlMzVhMjY5YTM4NjQ4YTg5MDM3MWE0ZGFlYWEzYmM2KQogICAgICAgIDsKCiAgICAgICAgCiAgICAKICAgIAogICAgICAgICAgICB2YXIgY2lyY2xlX21hcmtlcl8zNjYwZjk2OTNmZDM0YTVhOGNhNDJjZjc0NGZlNzk4ZiA9IEwuY2lyY2xlTWFya2VyKAogICAgICAgICAgICAgICAgWzQzLjc2OCwgLTc5LjI0Nzk0MTE3NjQ3MDU4XSwKICAgICAgICAgICAgICAgIHsiYnViYmxpbmdNb3VzZUV2ZW50cyI6IHRydWUsICJjb2xvciI6ICIjRkZFNEM0IiwgImRhc2hBcnJheSI6IG51bGwsICJkYXNoT2Zmc2V0IjogbnVsbCwgImZpbGwiOiB0cnVlLCAiZmlsbENvbG9yIjogImJsYWNrIiwgImZpbGxPcGFjaXR5IjogMC43LCAiZmlsbFJ1bGUiOiAiZXZlbm9kZCIsICJsaW5lQ2FwIjogInJvdW5kIiwgImxpbmVKb2luIjogInJvdW5kIiwgIm9wYWNpdHkiOiAxLjAsICJyYWRpdXMiOiA0LCAic3Ryb2tlIjogdHJ1ZSwgIndlaWdodCI6IDN9CiAgICAgICAgICAgICkuYWRkVG8obWFwXzgzZTM0YTA0YzY4ZDQ4M2Y4ZDkzNzc0NWI4Mzg5ODkxKTsKICAgICAgICAKICAgIAogICAgICAgIHZhciBwb3B1cF8yNjRhM2M2ZDRiZmU0ZmRlYTI0ZDk3ZDFiNzg0NGI4NyA9IEwucG9wdXAoeyJtYXhXaWR0aCI6ICIxMDAlIn0pOwoKICAgICAgICAKICAgICAgICAgICAgdmFyIGh0bWxfNWQ1YzkxNWFjYjhlNGIwNzllZGM0YTY0NDFjNmEwNmEgPSAkKGA8ZGl2IGlkPSJodG1sXzVkNWM5MTVhY2I4ZTRiMDc5ZWRjNGE2NDQxYzZhMDZhIiBzdHlsZT0id2lkdGg6IDEwMC4wJTsgaGVpZ2h0OiAxMDAuMCU7Ij5TY2FyYm9yb3VnaDwvZGl2PmApWzBdOwogICAgICAgICAgICBwb3B1cF8yNjRhM2M2ZDRiZmU0ZmRlYTI0ZDk3ZDFiNzg0NGI4Ny5zZXRDb250ZW50KGh0bWxfNWQ1YzkxNWFjYjhlNGIwNzllZGM0YTY0NDFjNmEwNmEpOwogICAgICAgIAoKICAgICAgICBjaXJjbGVfbWFya2VyXzM2NjBmOTY5M2ZkMzRhNWE4Y2E0MmNmNzQ0ZmU3OThmLmJpbmRQb3B1cChwb3B1cF8yNjRhM2M2ZDRiZmU0ZmRlYTI0ZDk3ZDFiNzg0NGI4NykKICAgICAgICA7CgogICAgICAgIAogICAgCiAgICAKICAgICAgICAgICAgdmFyIGNpcmNsZV9tYXJrZXJfOGNkMDVkNjViYTZiNDMwOWIwNTc5ZjJlOWFmM2E3MWQgPSBMLmNpcmNsZU1hcmtlcigKICAgICAgICAgICAgICAgIFs0My42NTE3MzMzMzMzMzMzNCwgLTc5LjQ0NzNdLAogICAgICAgICAgICAgICAgeyJidWJibGluZ01vdXNlRXZlbnRzIjogdHJ1ZSwgImNvbG9yIjogIiM4QjAwOEIiLCAiZGFzaEFycmF5IjogbnVsbCwgImRhc2hPZmZzZXQiOiBudWxsLCAiZmlsbCI6IHRydWUsICJmaWxsQ29sb3IiOiAiYmxhY2siLCAiZmlsbE9wYWNpdHkiOiAwLjcsICJmaWxsUnVsZSI6ICJldmVub2RkIiwgImxpbmVDYXAiOiAicm91bmQiLCAibGluZUpvaW4iOiAicm91bmQiLCAib3BhY2l0eSI6IDEuMCwgInJhZGl1cyI6IDQsICJzdHJva2UiOiB0cnVlLCAid2VpZ2h0IjogM30KICAgICAgICAgICAgKS5hZGRUbyhtYXBfODNlMzRhMDRjNjhkNDgzZjhkOTM3NzQ1YjgzODk4OTEpOwogICAgICAgIAogICAgCiAgICAgICAgdmFyIHBvcHVwX2Q5Y2MxOTI0ZTFlODQ0NmE5Y2EzNWI5N2U4N2E2M2I5ID0gTC5wb3B1cCh7Im1heFdpZHRoIjogIjEwMCUifSk7CgogICAgICAgIAogICAgICAgICAgICB2YXIgaHRtbF80NGI2ZDY3M2ZjYTU0ZmQ2ODFlMTBkODU1ZDczOTkxYSA9ICQoYDxkaXYgaWQ9Imh0bWxfNDRiNmQ2NzNmY2E1NGZkNjgxZTEwZDg1NWQ3Mzk5MWEiIHN0eWxlPSJ3aWR0aDogMTAwLjAlOyBoZWlnaHQ6IDEwMC4wJTsiPldlc3QgVG9yb250bzwvZGl2PmApWzBdOwogICAgICAgICAgICBwb3B1cF9kOWNjMTkyNGUxZTg0NDZhOWNhMzViOTdlODdhNjNiOS5zZXRDb250ZW50KGh0bWxfNDRiNmQ2NzNmY2E1NGZkNjgxZTEwZDg1NWQ3Mzk5MWEpOwogICAgICAgIAoKICAgICAgICBjaXJjbGVfbWFya2VyXzhjZDA1ZDY1YmE2YjQzMDliMDU3OWYyZTlhZjNhNzFkLmJpbmRQb3B1cChwb3B1cF9kOWNjMTkyNGUxZTg0NDZhOWNhMzViOTdlODdhNjNiOSkKICAgICAgICA7CgogICAgICAgIAogICAgCiAgICAKICAgICAgICAgICAgdmFyIGNpcmNsZV9tYXJrZXJfZmU4OTdjYjAxNGY5NDZkODhjZGQ0NWQyMzZmMWJlZWIgPSBMLmNpcmNsZU1hcmtlcigKICAgICAgICAgICAgICAgIFs0My42OTEwOCwgLTc5LjQ3MzZdLAogICAgICAgICAgICAgICAgeyJidWJibGluZ01vdXNlRXZlbnRzIjogdHJ1ZSwgImNvbG9yIjogIiMwMDAwOEIiLCAiZGFzaEFycmF5IjogbnVsbCwgImRhc2hPZmZzZXQiOiBudWxsLCAiZmlsbCI6IHRydWUsICJmaWxsQ29sb3IiOiAiYmxhY2siLCAiZmlsbE9wYWNpdHkiOiAwLjcsICJmaWxsUnVsZSI6ICJldmVub2RkIiwgImxpbmVDYXAiOiAicm91bmQiLCAibGluZUpvaW4iOiAicm91bmQiLCAib3BhY2l0eSI6IDEuMCwgInJhZGl1cyI6IDQsICJzdHJva2UiOiB0cnVlLCAid2VpZ2h0IjogM30KICAgICAgICAgICAgKS5hZGRUbyhtYXBfODNlMzRhMDRjNjhkNDgzZjhkOTM3NzQ1YjgzODk4OTEpOwogICAgICAgIAogICAgCiAgICAgICAgdmFyIHBvcHVwX2U3Y2JjY2Q3YWQ1ZjRjZWVhYWY3YzA0NGJmYmExOTQ5ID0gTC5wb3B1cCh7Im1heFdpZHRoIjogIjEwMCUifSk7CgogICAgICAgIAogICAgICAgICAgICB2YXIgaHRtbF8xM2VhYzBlNzg0NDQ0ZWNlYTNmZGEwNDExN2EwMDI5MyA9ICQoYDxkaXYgaWQ9Imh0bWxfMTNlYWMwZTc4NDQ0NGVjZWEzZmRhMDQxMTdhMDAyOTMiIHN0eWxlPSJ3aWR0aDogMTAwLjAlOyBoZWlnaHQ6IDEwMC4wJTsiPllvcms8L2Rpdj5gKVswXTsKICAgICAgICAgICAgcG9wdXBfZTdjYmNjZDdhZDVmNGNlZWFhZjdjMDQ0YmZiYTE5NDkuc2V0Q29udGVudChodG1sXzEzZWFjMGU3ODQ0NDRlY2VhM2ZkYTA0MTE3YTAwMjkzKTsKICAgICAgICAKCiAgICAgICAgY2lyY2xlX21hcmtlcl9mZTg5N2NiMDE0Zjk0NmQ4OGNkZDQ1ZDIzNmYxYmVlYi5iaW5kUG9wdXAocG9wdXBfZTdjYmNjZDdhZDVmNGNlZWFhZjdjMDQ0YmZiYTE5NDkpCiAgICAgICAgOwoKICAgICAgICAKICAgIAo8L3NjcmlwdD4=\" style=\"position:absolute;width:100%;height:100%;left:0;top:0;border:none !important;\" allowfullscreen webkitallowfullscreen mozallowfullscreen></iframe></div></div>"
      ],
      "text/plain": [
       "<folium.folium.Map at 0x7f4df0f04d68>"
      ]
     },
     "execution_count": 36,
     "metadata": {},
     "output_type": "execute_result"
    }
   ],
   "source": [
    "# create map of Toronto using latitude and longitude values for boroghs\n",
    "map_torontoBorough = folium.Map(location=[latitude, longitude], zoom_start=10)\n",
    "\n",
    "# add markers to map\n",
    "for lat, lng, borough in zip(tr_borough['latitude'], tr_borough['longitude'], tr_borough['Borough']):\n",
    "    label = borough\n",
    "    label = folium.Popup(label, parse_html=True)\n",
    "    folium.CircleMarker(\n",
    "        [lat, lng],\n",
    "        radius=4,\n",
    "        popup=label,\n",
    "        color=colorMap[borough],\n",
    "        fill=True,\n",
    "        fill_color='black',\n",
    "        fill_opacity=0.7,\n",
    "        parse_html=False).add_to(map_torontoBorough)  \n",
    "    \n",
    "map_torontoBorough"
   ]
  },
  {
   "cell_type": "code",
   "execution_count": 315,
   "metadata": {
    "collapsed": true
   },
   "outputs": [],
   "source": [
    "# Well, of course, the color coding could be much better, but the idea was that the number of boroughs is not fixed. in that case one needs a long enough list of colors. "
   ]
  }
 ],
 "metadata": {
  "kernelspec": {
   "display_name": "Python 3",
   "language": "python",
   "name": "python3"
  },
  "language_info": {
   "codemirror_mode": {
    "name": "ipython",
    "version": 3
   },
   "file_extension": ".py",
   "mimetype": "text/x-python",
   "name": "python",
   "nbconvert_exporter": "python",
   "pygments_lexer": "ipython3",
   "version": "3.6.7"
  }
 },
 "nbformat": 4,
 "nbformat_minor": 2
}
